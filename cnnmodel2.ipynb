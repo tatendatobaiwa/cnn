{
  "nbformat": 4,
  "nbformat_minor": 0,
  "metadata": {
    "colab": {
      "provenance": [],
      "mount_file_id": "1CaxMGNW7MDU-RPb-dOCKqpqFeJRrf_PU",
      "authorship_tag": "ABX9TyNaxfK2TQCblZym8vatZtqF",
      "include_colab_link": true
    },
    "kernelspec": {
      "name": "python3",
      "display_name": "Python 3"
    },
    "language_info": {
      "name": "python"
    }
  },
  "cells": [
    {
      "cell_type": "markdown",
      "metadata": {
        "id": "view-in-github",
        "colab_type": "text"
      },
      "source": [
        "<a href=\"https://colab.research.google.com/github/tatendatobaiwa/cnn/blob/main/cnnmodel2.ipynb\" target=\"_parent\"><img src=\"https://colab.research.google.com/assets/colab-badge.svg\" alt=\"Open In Colab\"/></a>"
      ]
    },
    {
      "cell_type": "markdown",
      "source": [
        "# ***SIMPLE CNN MODEL BUILD FOR LUNG CANCER IMAGING***"
      ],
      "metadata": {
        "id": "QlaQ4nr_yhw1"
      }
    },
    {
      "cell_type": "markdown",
      "source": [
        "**Step 1: Mount Drive**"
      ],
      "metadata": {
        "id": "8B-3KEZEypc8"
      }
    },
    {
      "cell_type": "code",
      "execution_count": 1,
      "metadata": {
        "colab": {
          "base_uri": "https://localhost:8080/"
        },
        "id": "ViKWf2N6yg8I",
        "outputId": "b9952e7a-7f57-47a7-a307-6b604107b1db"
      },
      "outputs": [
        {
          "output_type": "stream",
          "name": "stdout",
          "text": [
            "Drive already mounted at /content/drive; to attempt to forcibly remount, call drive.mount(\"/content/drive\", force_remount=True).\n"
          ]
        }
      ],
      "source": [
        "from google.colab import drive\n",
        "drive.mount('/content/drive')"
      ]
    },
    {
      "cell_type": "markdown",
      "source": [
        "**Step 2: Create Directories in Drive**"
      ],
      "metadata": {
        "id": "St-4OKQZyt6s"
      }
    },
    {
      "cell_type": "markdown",
      "source": [
        "**Step 3: Install Dependenices**"
      ],
      "metadata": {
        "id": "FEmy_QBs3odT"
      }
    },
    {
      "cell_type": "code",
      "source": [
        "!pip install -q tensorflow==2.13.0\n",
        "!pip install -q tensorflow-addons==0.23.0"
      ],
      "metadata": {
        "colab": {
          "base_uri": "https://localhost:8080/"
        },
        "id": "udcPdpzxKYeE",
        "outputId": "b92d78e7-2593-4b37-ef90-61d898f2290b"
      },
      "execution_count": 2,
      "outputs": [
        {
          "output_type": "stream",
          "name": "stdout",
          "text": [
            "\u001b[2K   \u001b[90m━━━━━━━━━━━━━━━━━━━━━━━━━━━━━━━━━━━━━━━━\u001b[0m \u001b[32m524.2/524.2 MB\u001b[0m \u001b[31m3.4 MB/s\u001b[0m eta \u001b[36m0:00:00\u001b[0m\n",
            "\u001b[2K   \u001b[90m━━━━━━━━━━━━━━━━━━━━━━━━━━━━━━━━━━━━━━━━\u001b[0m \u001b[32m1.7/1.7 MB\u001b[0m \u001b[31m61.8 MB/s\u001b[0m eta \u001b[36m0:00:00\u001b[0m\n",
            "\u001b[2K   \u001b[90m━━━━━━━━━━━━━━━━━━━━━━━━━━━━━━━━━━━━━━━━\u001b[0m \u001b[32m17.3/17.3 MB\u001b[0m \u001b[31m89.0 MB/s\u001b[0m eta \u001b[36m0:00:00\u001b[0m\n",
            "\u001b[2K   \u001b[90m━━━━━━━━━━━━━━━━━━━━━━━━━━━━━━━━━━━━━━━━\u001b[0m \u001b[32m5.6/5.6 MB\u001b[0m \u001b[31m95.0 MB/s\u001b[0m eta \u001b[36m0:00:00\u001b[0m\n",
            "\u001b[2K   \u001b[90m━━━━━━━━━━━━━━━━━━━━━━━━━━━━━━━━━━━━━━━━\u001b[0m \u001b[32m440.8/440.8 kB\u001b[0m \u001b[31m27.3 MB/s\u001b[0m eta \u001b[36m0:00:00\u001b[0m\n",
            "\u001b[?25h\u001b[31mERROR: pip's dependency resolver does not currently take into account all the packages that are installed. This behaviour is the source of the following dependency conflicts.\n",
            "pymc 5.20.0 requires numpy>=1.25.0, but you have numpy 1.24.3 which is incompatible.\n",
            "torch 2.5.1+cu124 requires nvidia-cublas-cu12==12.4.5.8; platform_system == \"Linux\" and platform_machine == \"x86_64\", but you have nvidia-cublas-cu12 12.5.3.2 which is incompatible.\n",
            "torch 2.5.1+cu124 requires nvidia-cuda-cupti-cu12==12.4.127; platform_system == \"Linux\" and platform_machine == \"x86_64\", but you have nvidia-cuda-cupti-cu12 12.5.82 which is incompatible.\n",
            "torch 2.5.1+cu124 requires nvidia-cuda-nvrtc-cu12==12.4.127; platform_system == \"Linux\" and platform_machine == \"x86_64\", but you have nvidia-cuda-nvrtc-cu12 12.5.82 which is incompatible.\n",
            "torch 2.5.1+cu124 requires nvidia-cuda-runtime-cu12==12.4.127; platform_system == \"Linux\" and platform_machine == \"x86_64\", but you have nvidia-cuda-runtime-cu12 12.5.82 which is incompatible.\n",
            "torch 2.5.1+cu124 requires nvidia-cudnn-cu12==9.1.0.70; platform_system == \"Linux\" and platform_machine == \"x86_64\", but you have nvidia-cudnn-cu12 9.3.0.75 which is incompatible.\n",
            "torch 2.5.1+cu124 requires nvidia-cufft-cu12==11.2.1.3; platform_system == \"Linux\" and platform_machine == \"x86_64\", but you have nvidia-cufft-cu12 11.2.3.61 which is incompatible.\n",
            "torch 2.5.1+cu124 requires nvidia-curand-cu12==10.3.5.147; platform_system == \"Linux\" and platform_machine == \"x86_64\", but you have nvidia-curand-cu12 10.3.6.82 which is incompatible.\n",
            "torch 2.5.1+cu124 requires nvidia-cusolver-cu12==11.6.1.9; platform_system == \"Linux\" and platform_machine == \"x86_64\", but you have nvidia-cusolver-cu12 11.6.3.83 which is incompatible.\n",
            "torch 2.5.1+cu124 requires nvidia-cusparse-cu12==12.3.1.170; platform_system == \"Linux\" and platform_machine == \"x86_64\", but you have nvidia-cusparse-cu12 12.5.1.3 which is incompatible.\n",
            "torch 2.5.1+cu124 requires nvidia-nvjitlink-cu12==12.4.127; platform_system == \"Linux\" and platform_machine == \"x86_64\", but you have nvidia-nvjitlink-cu12 12.5.82 which is incompatible.\n",
            "torch 2.5.1+cu124 requires typing-extensions>=4.8.0, but you have typing-extensions 4.5.0 which is incompatible.\n",
            "nibabel 5.3.2 requires typing-extensions>=4.6; python_version < \"3.13\", but you have typing-extensions 4.5.0 which is incompatible.\n",
            "pydantic-core 2.27.2 requires typing-extensions!=4.7.0,>=4.6.0, but you have typing-extensions 4.5.0 which is incompatible.\n",
            "typeguard 4.4.1 requires typing-extensions>=4.10.0, but you have typing-extensions 4.5.0 which is incompatible.\n",
            "sqlalchemy 2.0.37 requires typing-extensions>=4.6.0, but you have typing-extensions 4.5.0 which is incompatible.\n",
            "blosc2 3.0.0 requires numpy>=1.25.0, but you have numpy 1.24.3 which is incompatible.\n",
            "tensorflow-text 2.18.1 requires tensorflow<2.19,>=2.18.0, but you have tensorflow 2.13.0 which is incompatible.\n",
            "tf-keras 2.18.0 requires tensorflow<2.19,>=2.18, but you have tensorflow 2.13.0 which is incompatible.\n",
            "pydantic 2.10.6 requires typing-extensions>=4.12.2, but you have typing-extensions 4.5.0 which is incompatible.\n",
            "langchain-core 0.3.33 requires typing-extensions>=4.7, but you have typing-extensions 4.5.0 which is incompatible.\n",
            "altair 5.5.0 requires typing-extensions>=4.10.0; python_version < \"3.14\", but you have typing-extensions 4.5.0 which is incompatible.\n",
            "albumentations 2.0.3 requires numpy>=1.24.4, but you have numpy 1.24.3 which is incompatible.\n",
            "albucore 0.0.23 requires numpy>=1.24.4, but you have numpy 1.24.3 which is incompatible.\n",
            "openai 1.61.1 requires typing-extensions<5,>=4.11, but you have typing-extensions 4.5.0 which is incompatible.\u001b[0m\u001b[31m\n",
            "\u001b[2K   \u001b[90m━━━━━━━━━━━━━━━━━━━━━━━━━━━━━━━━━━━━━━━━\u001b[0m \u001b[32m611.8/611.8 kB\u001b[0m \u001b[31m8.4 MB/s\u001b[0m eta \u001b[36m0:00:00\u001b[0m\n",
            "\u001b[?25h\u001b[31mERROR: pip's dependency resolver does not currently take into account all the packages that are installed. This behaviour is the source of the following dependency conflicts.\n",
            "inflect 7.5.0 requires typeguard>=4.0.1, but you have typeguard 2.13.3 which is incompatible.\u001b[0m\u001b[31m\n",
            "\u001b[0m"
          ]
        }
      ]
    },
    {
      "cell_type": "code",
      "source": [
        "import tensorflow as tf\n",
        "import cv2\n",
        "import numpy as np\n",
        "from pathlib import Path\n",
        "import matplotlib.pyplot as plt\n",
        "import os\n",
        "import sys\n",
        "from sklearn.model_selection import train_test_split\n",
        "from tensorflow.keras.preprocessing.image import ImageDataGenerator\n",
        "from tensorflow.keras.callbacks import EarlyStopping, ModelCheckpoint\n",
        "from sklearn.metrics import classification_report, confusion_matrix\n",
        "import seaborn as sns\n",
        "\n",
        "project_path = '/content/drive/MyDrive/cnnprojectfinal'\n",
        "sys.path.append(project_path)"
      ],
      "metadata": {
        "id": "LU4bCKlz33CN"
      },
      "execution_count": 3,
      "outputs": []
    },
    {
      "cell_type": "markdown",
      "source": [
        "**Mini Step 3a: Verify Fixes**"
      ],
      "metadata": {
        "id": "9Gj1wK6r3_x1"
      }
    },
    {
      "cell_type": "code",
      "source": [
        "import tensorflow as tf\n",
        "import tensorflow_addons as tfa\n",
        "\n",
        "print(f\"TensorFlow version: {tf.__version__}\")\n",
        "print(f\"TensorFlow Addons version: {tfa.__version__}\")"
      ],
      "metadata": {
        "id": "jfOxvHnv39_V",
        "colab": {
          "base_uri": "https://localhost:8080/"
        },
        "outputId": "0c9e54a2-a899-4b2a-e49c-0d5940cb652a"
      },
      "execution_count": 4,
      "outputs": [
        {
          "output_type": "stream",
          "name": "stderr",
          "text": [
            "/usr/local/lib/python3.11/dist-packages/tensorflow_addons/utils/tfa_eol_msg.py:23: UserWarning: \n",
            "\n",
            "TensorFlow Addons (TFA) has ended development and introduction of new features.\n",
            "TFA has entered a minimal maintenance and release mode until a planned end of life in May 2024.\n",
            "Please modify downstream libraries to take dependencies from other repositories in our TensorFlow community (e.g. Keras, Keras-CV, and Keras-NLP). \n",
            "\n",
            "For more information see: https://github.com/tensorflow/addons/issues/2807 \n",
            "\n",
            "  warnings.warn(\n"
          ]
        },
        {
          "output_type": "stream",
          "name": "stdout",
          "text": [
            "TensorFlow version: 2.13.0\n",
            "TensorFlow Addons version: 0.23.0\n"
          ]
        }
      ]
    },
    {
      "cell_type": "markdown",
      "source": [
        "**Step 4: Use a script to Load and Preprocess Data**"
      ],
      "metadata": {
        "id": "34UkySdn4Ei2"
      }
    },
    {
      "cell_type": "code",
      "source": [
        "import cv2\n",
        "import numpy as np\n",
        "from pathlib import Path\n",
        "from tensorflow.keras.preprocessing.image import ImageDataGenerator\n",
        "from sklearn.model_selection import train_test_split\n",
        "import matplotlib.pyplot as plt\n",
        "import os\n",
        "\n",
        "class DataProcessor:\n",
        "    def __init__(self, base_path=\"/content/drive/MyDrive/cnnprojectfinal\", target_size=(224, 224)):\n",
        "        \"\"\"\n",
        "        Initialize the DataProcessor.\n",
        "\n",
        "        Parameters:\n",
        "          - base_path: Root directory of your project.\n",
        "          - target_size: Desired image size (width, height).\n",
        "                         We use (224, 224) because MobileNetV2 is optimized for this size.\n",
        "        \"\"\"\n",
        "        self.base_path = Path(base_path)\n",
        "        self.target_size = target_size\n",
        "        self.train_path = self.base_path / \"data/raw/train\"\n",
        "        self.test_path = self.base_path / \"data/raw/test\"\n",
        "\n",
        "        # Verify that the training directory exists\n",
        "        if not self.train_path.exists():\n",
        "            raise FileNotFoundError(f\"Train directory {self.train_path} does not exist.\")\n",
        "        if not self.test_path.exists():\n",
        "            print(f\"Warning: Test directory {self.test_path} does not exist.\")\n",
        "\n",
        "    def load_images(self, directory, use_clahe=False):\n",
        "        \"\"\"\n",
        "        Loads images from a given directory, resizes them, and optionally applies CLAHE.\n",
        "\n",
        "        Parameters:\n",
        "          - directory: Path to the image directory (should contain subdirectories for each class).\n",
        "          - use_clahe: Boolean flag to apply CLAHE for contrast enhancement.\n",
        "\n",
        "        Returns:\n",
        "          - images: NumPy array of images.\n",
        "          - labels: NumPy array of corresponding labels (integers based on class index).\n",
        "        \"\"\"\n",
        "        images = []\n",
        "        labels = []\n",
        "        class_names = ['benign', 'malignant', 'normal']\n",
        "\n",
        "        for label, class_name in enumerate(class_names):\n",
        "            class_dir = directory / class_name\n",
        "            if not class_dir.exists():\n",
        "                print(f\"Warning: {class_dir} does not exist. Skipping this class.\")\n",
        "                continue\n",
        "            for img_path in class_dir.glob('*'):\n",
        "                if img_path.suffix.lower() in ('.png', '.jpg', '.jpeg'):\n",
        "                    # Read image in grayscale\n",
        "                    img = cv2.imread(str(img_path), cv2.IMREAD_GRAYSCALE)\n",
        "                    if img is None:\n",
        "                        print(f\"Warning: Unable to load image {img_path}\")\n",
        "                        continue\n",
        "                    # Optionally apply CLAHE for contrast enhancement\n",
        "                    if use_clahe:\n",
        "                        clahe = cv2.createCLAHE(clipLimit=2.0, tileGridSize=(8, 8))\n",
        "                        img = clahe.apply(img)\n",
        "                    # Resize image to the target size (e.g., 224x224)\n",
        "                    img = cv2.resize(img, self.target_size)\n",
        "                    images.append(img)\n",
        "                    labels.append(label)\n",
        "        return np.array(images), np.array(labels)\n",
        "\n",
        "    def create_generators(self, batch_size=32, use_clahe=False):\n",
        "        \"\"\"\n",
        "        Creates data generators for training and validation.\n",
        "\n",
        "        Returns:\n",
        "          - train_generator: Augmented generator for training data.\n",
        "          - val_generator: Generator for validation data (no augmentation).\n",
        "          - X_val, y_val: Validation images and labels (for evaluation and visualization).\n",
        "        \"\"\"\n",
        "        # Load images from the training directory and normalize pixel values to [0,1]\n",
        "        X_train, y_train = self.load_images(self.train_path, use_clahe=use_clahe)\n",
        "        # Add channel dimension (since images are grayscale) and scale pixel values\n",
        "        X_train = X_train[..., np.newaxis] / 255.0\n",
        "\n",
        "        # Split the data into training and validation sets with stratification\n",
        "        X_train, X_val, y_train, y_val = train_test_split(\n",
        "            X_train, y_train, test_size=0.2, stratify=y_train, random_state=42\n",
        "        )\n",
        "\n",
        "        # Set up data augmentation for the training data.\n",
        "        # Adjust parameters here as needed; brightness_range and geometric transformations are provided.\n",
        "        train_datagen = ImageDataGenerator(\n",
        "            rotation_range=20,\n",
        "            width_shift_range=0.2,\n",
        "            height_shift_range=0.2,\n",
        "            shear_range=0.2,\n",
        "            zoom_range=0.2,\n",
        "            horizontal_flip=True,\n",
        "            brightness_range=[0.8, 1.5],  # Adjusted range; you can experiment with these values.\n",
        "            fill_mode='nearest'\n",
        "        )\n",
        "        # No augmentation is applied to the validation data.\n",
        "        val_datagen = ImageDataGenerator()\n",
        "\n",
        "        train_generator = train_datagen.flow(X_train, y_train, batch_size=batch_size, shuffle=True)\n",
        "        val_generator = val_datagen.flow(X_val, y_val, batch_size=batch_size, shuffle=False)\n",
        "\n",
        "        return train_generator, val_generator, X_val, y_val\n",
        "\n",
        "    def show_augmented_images(self, generator, n_images=5, gamma=1.0):\n",
        "        \"\"\"\n",
        "        Visualizes a few augmented images from a given generator.\n",
        "\n",
        "        Parameters:\n",
        "          - generator: The image data generator.\n",
        "          - n_images: Number of images to display.\n",
        "          - gamma: Gamma correction factor (gamma < 1 brightens the image).\n",
        "        \"\"\"\n",
        "        images, labels = next(generator)\n",
        "        plt.figure(figsize=(15, 3))\n",
        "        for i in range(n_images):\n",
        "            img = images[i].squeeze()\n",
        "            if gamma != 1.0:\n",
        "                img = np.power(img, 1.0/gamma)\n",
        "            plt.subplot(1, n_images, i+1)\n",
        "            plt.imshow(img, cmap='gray', vmin=0, vmax=1)\n",
        "            plt.title(f\"Label: {labels[i]}\")\n",
        "            plt.axis('off')\n",
        "        plt.tight_layout()\n",
        "        plt.show()\n"
      ],
      "metadata": {
        "id": "BngS1vGK4FOm"
      },
      "execution_count": 5,
      "outputs": []
    },
    {
      "cell_type": "markdown",
      "source": [
        "**Step 5: Model Training**"
      ],
      "metadata": {
        "id": "9IWDOW6s4eNI"
      }
    },
    {
      "cell_type": "code",
      "source": [
        "import sys\n",
        "import os\n",
        "import tensorflow as tf\n",
        "from tensorflow.keras.callbacks import EarlyStopping, ModelCheckpoint, ReduceLROnPlateau\n",
        "import matplotlib.pyplot as plt\n",
        "\n",
        "# Set your project root path (the folder that contains the utils directory)\n",
        "project_path = '/content/drive/MyDrive/cnnprojectfinal'\n",
        "if project_path not in sys.path:\n",
        "    sys.path.append(project_path)\n",
        "\n",
        "# Import the DataProcessor from the utils directory.\n",
        "from utils.data_processing import DataProcessor\n",
        "# Import the transfer model function.\n",
        "from utils.model_transfer import create_model_transfer\n",
        "\n",
        "#############################################\n",
        "# Training and Plotting Functions\n",
        "#############################################\n",
        "def train_model(model, train_generator, val_generator, epochs, checkpoint_path):\n",
        "    \"\"\"\n",
        "    Trains the model using callbacks for early stopping, checkpointing, and learning rate reduction.\n",
        "    \"\"\"\n",
        "    early_stop = EarlyStopping(monitor='val_loss', patience=8, restore_best_weights=True, verbose=1)\n",
        "    checkpoint = ModelCheckpoint(checkpoint_path, monitor='val_loss', save_best_only=True, verbose=1)\n",
        "    reduce_lr = ReduceLROnPlateau(monitor='val_loss', factor=0.5, patience=5, min_lr=1e-6, verbose=1)\n",
        "    callbacks = [early_stop, checkpoint, reduce_lr]\n",
        "\n",
        "    history = model.fit(\n",
        "        train_generator,\n",
        "        validation_data=val_generator,\n",
        "        epochs=epochs,\n",
        "        callbacks=callbacks,\n",
        "        verbose=1\n",
        "    )\n",
        "    return history\n",
        "\n",
        "def plot_training_history(history, title=\"Training History\"):\n",
        "    \"\"\"\n",
        "    Plots the training and validation loss and accuracy.\n",
        "    \"\"\"\n",
        "    plt.figure(figsize=(12, 5))\n",
        "\n",
        "    plt.subplot(1, 2, 1)\n",
        "    plt.plot(history.history['loss'], label='Train Loss')\n",
        "    plt.plot(history.history['val_loss'], label='Val Loss')\n",
        "    plt.xlabel('Epoch')\n",
        "    plt.ylabel('Loss')\n",
        "    plt.legend()\n",
        "    plt.title(title + \" (Loss)\")\n",
        "\n",
        "    plt.subplot(1, 2, 2)\n",
        "    plt.plot(history.history['accuracy'], label='Train Accuracy')\n",
        "    plt.plot(history.history['val_accuracy'], label='Val Accuracy')\n",
        "    plt.xlabel('Epoch')\n",
        "    plt.ylabel('Accuracy')\n",
        "    plt.legend()\n",
        "    plt.title(title + \" (Accuracy)\")\n",
        "\n",
        "    plt.tight_layout()\n",
        "    plt.show()\n",
        "\n",
        "#############################################\n",
        "# Main Training and Fine-Tuning Workflow\n",
        "#############################################\n",
        "if __name__ == '__main__':\n",
        "    # Initialize the data processor.\n",
        "    # (Assuming that your data_processing.py now outputs images at 224x224.)\n",
        "    processor = DataProcessor(target_size=(224, 224))\n",
        "    train_gen, val_gen, X_val, y_val = processor.create_generators(batch_size=32)\n",
        "\n",
        "    # Define path to save the best model.\n",
        "    model_path = '/content/drive/MyDrive/cnnprojectfinal/best_model.h5'\n",
        "\n",
        "    # Create the MobileNetV2-based transfer learning model.\n",
        "    model = create_model_transfer(input_shape=(224, 224, 1), num_classes=3)\n",
        "\n",
        "    print(\"🚀 Starting initial training...\")\n",
        "    # Initial training phase.\n",
        "    initial_epochs = 50\n",
        "    history_initial = train_model(model, train_gen, val_gen, epochs=initial_epochs, checkpoint_path=model_path)\n",
        "    plot_training_history(history_initial, title=\"Initial Training\")\n",
        "\n",
        "    # Save the best model from the initial training phase.\n",
        "    model.save(model_path)\n",
        "    print(f\"✅ Initial model saved as {model_path}\")\n",
        "\n",
        "    # ----------------- Fine-Tuning Phase -----------------\n",
        "    print(\"🔧 Starting fine-tuning...\")\n",
        "\n",
        "    # Retrieve the MobileNetV2 base model from the constructed model.\n",
        "    base_model = model.get_layer(\"MobileNetV2_base\")\n",
        "    # Unfreeze the base model for fine-tuning.\n",
        "    base_model.trainable = True\n",
        "    # Optionally, freeze the earlier layers of the base model.\n",
        "    # Here, we unfreeze the last 30 layers and freeze the rest.\n",
        "    for layer in base_model.layers[:-30]:\n",
        "        layer.trainable = False\n",
        "\n",
        "    # Recompile the model with a lower learning rate for fine-tuning.\n",
        "    model.compile(optimizer=tf.keras.optimizers.Adam(learning_rate=1e-5),\n",
        "                  loss='sparse_categorical_crossentropy',\n",
        "                  metrics=['accuracy'])\n",
        "\n",
        "    # Fine-tune the model for additional epochs.\n",
        "    fine_tune_epochs = 20\n",
        "    history_fine = train_model(model, train_gen, val_gen, epochs=fine_tune_epochs, checkpoint_path=model_path)\n",
        "    plot_training_history(history_fine, title=\"Fine-Tuning\")\n",
        "\n",
        "    # Save the final fine-tuned model.\n",
        "    final_model_path = '/content/drive/MyDrive/cnnprojectfinal/final_model.h5'\n",
        "    model.save(final_model_path)\n",
        "    print(f\"✅ Final model saved as {final_model_path}\")\n"
      ],
      "metadata": {
        "id": "30Q6MoyY4ri5",
        "colab": {
          "base_uri": "https://localhost:8080/",
          "height": 1000
        },
        "outputId": "075df6c1-fb78-40a3-a25a-6f10e60f0cfc"
      },
      "execution_count": null,
      "outputs": [
        {
          "output_type": "stream",
          "name": "stderr",
          "text": [
            "WARNING:tensorflow:`input_shape` is undefined or non-square, or `rows` is not in [96, 128, 160, 192, 224]. Weights for input shape (224, 224) will be loaded as the default.\n"
          ]
        },
        {
          "output_type": "stream",
          "name": "stdout",
          "text": [
            "Downloading data from https://storage.googleapis.com/tensorflow/keras-applications/mobilenet_v2/mobilenet_v2_weights_tf_dim_ordering_tf_kernels_1.0_224_no_top.h5\n",
            "9406464/9406464 [==============================] - 0s 0us/step\n",
            "🚀 Starting initial training...\n",
            "Epoch 1/50\n",
            "28/28 [==============================] - ETA: 0s - loss: 1.3301 - accuracy: 0.5359\n",
            "Epoch 1: val_loss improved from inf to 1.54646, saving model to /content/drive/MyDrive/cnnprojectfinal/best_model.h5\n"
          ]
        },
        {
          "output_type": "stream",
          "name": "stderr",
          "text": [
            "/usr/local/lib/python3.11/dist-packages/keras/src/engine/training.py:3000: UserWarning: You are saving your model as an HDF5 file via `model.save()`. This file format is considered legacy. We recommend using instead the native Keras format, e.g. `model.save('my_model.keras')`.\n",
            "  saving_api.save_model(\n"
          ]
        },
        {
          "output_type": "stream",
          "name": "stdout",
          "text": [
            "\b\b\b\b\b\b\b\b\b\b\b\b\b\b\b\b\b\b\b\b\b\b\b\b\b\b\b\b\b\b\b\b\b\b\b\b\b\b\b\b\b\b\b\b\b\b\b\b\b\b\b\b\b\b\b\b\b\b\b\b\b\b\b\b\b\b\b\b\b\b\b\b\b\b\b\b\b\b\b\b\b\b\r28/28 [==============================] - 78s 3s/step - loss: 1.3301 - accuracy: 0.5359 - val_loss: 1.5465 - val_accuracy: 0.4182 - lr: 0.0010\n",
            "Epoch 2/50\n",
            "28/28 [==============================] - ETA: 0s - loss: 0.9496 - accuracy: 0.6465\n",
            "Epoch 2: val_loss improved from 1.54646 to 1.42823, saving model to /content/drive/MyDrive/cnnprojectfinal/best_model.h5\n",
            "28/28 [==============================] - 72s 3s/step - loss: 0.9496 - accuracy: 0.6465 - val_loss: 1.4282 - val_accuracy: 0.4864 - lr: 0.0010\n",
            "Epoch 3/50\n",
            "28/28 [==============================] - ETA: 0s - loss: 0.8511 - accuracy: 0.6899\n",
            "Epoch 3: val_loss did not improve from 1.42823\n",
            "28/28 [==============================] - 76s 3s/step - loss: 0.8511 - accuracy: 0.6899 - val_loss: 1.5386 - val_accuracy: 0.5136 - lr: 0.0010\n",
            "Epoch 4/50\n",
            "28/28 [==============================] - ETA: 0s - loss: 0.8788 - accuracy: 0.6591\n",
            "Epoch 4: val_loss improved from 1.42823 to 1.10209, saving model to /content/drive/MyDrive/cnnprojectfinal/best_model.h5\n",
            "28/28 [==============================] - 73s 3s/step - loss: 0.8788 - accuracy: 0.6591 - val_loss: 1.1021 - val_accuracy: 0.5682 - lr: 0.0010\n",
            "Epoch 5/50\n",
            "28/28 [==============================] - ETA: 0s - loss: 0.8286 - accuracy: 0.6613\n",
            "Epoch 5: val_loss did not improve from 1.10209\n",
            "28/28 [==============================] - 80s 3s/step - loss: 0.8286 - accuracy: 0.6613 - val_loss: 1.6430 - val_accuracy: 0.5182 - lr: 0.0010\n",
            "Epoch 6/50\n",
            "28/28 [==============================] - ETA: 0s - loss: 0.7256 - accuracy: 0.7013\n",
            "Epoch 6: val_loss did not improve from 1.10209\n",
            "28/28 [==============================] - 81s 3s/step - loss: 0.7256 - accuracy: 0.7013 - val_loss: 2.7529 - val_accuracy: 0.5136 - lr: 0.0010\n",
            "Epoch 7/50\n",
            "28/28 [==============================] - ETA: 0s - loss: 0.8182 - accuracy: 0.6944\n",
            "Epoch 7: val_loss did not improve from 1.10209\n",
            "28/28 [==============================] - 69s 2s/step - loss: 0.8182 - accuracy: 0.6944 - val_loss: 1.2706 - val_accuracy: 0.6727 - lr: 0.0010\n",
            "Epoch 8/50\n",
            "28/28 [==============================] - ETA: 0s - loss: 0.7740 - accuracy: 0.7013\n",
            "Epoch 8: val_loss did not improve from 1.10209\n",
            "28/28 [==============================] - 69s 2s/step - loss: 0.7740 - accuracy: 0.7013 - val_loss: 1.3852 - val_accuracy: 0.6455 - lr: 0.0010\n",
            "Epoch 9/50\n",
            "28/28 [==============================] - ETA: 0s - loss: 0.7250 - accuracy: 0.7161\n",
            "Epoch 9: val_loss did not improve from 1.10209\n",
            "\n",
            "Epoch 9: ReduceLROnPlateau reducing learning rate to 0.0005000000237487257.\n",
            "28/28 [==============================] - 71s 3s/step - loss: 0.7250 - accuracy: 0.7161 - val_loss: 2.3480 - val_accuracy: 0.5227 - lr: 0.0010\n",
            "Epoch 10/50\n",
            "28/28 [==============================] - ETA: 0s - loss: 0.6752 - accuracy: 0.7309\n",
            "Epoch 10: val_loss did not improve from 1.10209\n",
            "28/28 [==============================] - 77s 3s/step - loss: 0.6752 - accuracy: 0.7309 - val_loss: 2.8526 - val_accuracy: 0.5182 - lr: 5.0000e-04\n",
            "Epoch 11/50\n",
            "28/28 [==============================] - ETA: 0s - loss: 0.6089 - accuracy: 0.7412\n",
            "Epoch 11: val_loss did not improve from 1.10209\n",
            "28/28 [==============================] - 78s 3s/step - loss: 0.6089 - accuracy: 0.7412 - val_loss: 3.4101 - val_accuracy: 0.5136 - lr: 5.0000e-04\n",
            "Epoch 12/50\n",
            "28/28 [==============================] - ETA: 0s - loss: 0.6319 - accuracy: 0.7480\n",
            "Epoch 12: val_loss did not improve from 1.10209\n",
            "28/28 [==============================] - 70s 3s/step - loss: 0.6319 - accuracy: 0.7480 - val_loss: 3.0055 - val_accuracy: 0.5227 - lr: 5.0000e-04\n",
            "Epoch 13/50\n",
            "28/28 [==============================] - ETA: 0s - loss: 0.6402 - accuracy: 0.7252\n",
            "Epoch 13: val_loss did not improve from 1.10209\n",
            "28/28 [==============================] - 72s 3s/step - loss: 0.6402 - accuracy: 0.7252 - val_loss: 3.5224 - val_accuracy: 0.5182 - lr: 5.0000e-04\n",
            "Epoch 14/50\n",
            "28/28 [==============================] - ETA: 0s - loss: 0.6568 - accuracy: 0.7298Restoring model weights from the end of the best epoch: 4.\n",
            "\n",
            "Epoch 14: val_loss did not improve from 1.10209\n",
            "\n",
            "Epoch 14: ReduceLROnPlateau reducing learning rate to 0.0002500000118743628.\n",
            "28/28 [==============================] - 69s 2s/step - loss: 0.6568 - accuracy: 0.7298 - val_loss: 4.0838 - val_accuracy: 0.5136 - lr: 5.0000e-04\n",
            "Epoch 14: early stopping\n"
          ]
        },
        {
          "output_type": "display_data",
          "data": {
            "text/plain": [
              "<Figure size 1200x500 with 2 Axes>"
            ],
            "image/png": "[encoded data removed]"
          },
          "metadata": {}
        },
        {
          "output_type": "stream",
          "name": "stdout",
          "text": [
            "✅ Initial model saved as /content/drive/MyDrive/cnnprojectfinal/best_model.h5\n",
            "🔧 Starting fine-tuning...\n",
            "Epoch 1/20\n",
            "28/28 [==============================] - ETA: 0s - loss: 0.7517 - accuracy: 0.6933\n",
            "Epoch 1: val_loss improved from inf to 1.12211, saving model to /content/drive/MyDrive/cnnprojectfinal/best_model.h5\n",
            "28/28 [==============================] - 87s 3s/step - loss: 0.7517 - accuracy: 0.6933 - val_loss: 1.1221 - val_accuracy: 0.5818 - lr: 1.0000e-05\n",
            "Epoch 2/20\n",
            "28/28 [==============================] - ETA: 0s - loss: 0.7244 - accuracy: 0.7184\n",
            "Epoch 2: val_loss did not improve from 1.12211\n",
            "28/28 [==============================] - 82s 3s/step - loss: 0.7244 - accuracy: 0.7184 - val_loss: 1.1829 - val_accuracy: 0.5727 - lr: 1.0000e-05\n",
            "Epoch 3/20\n",
            "28/28 [==============================] - ETA: 0s - loss: 0.6851 - accuracy: 0.7138\n",
            "Epoch 3: val_loss did not improve from 1.12211\n",
            "28/28 [==============================] - 79s 3s/step - loss: 0.6851 - accuracy: 0.7138 - val_loss: 1.2589 - val_accuracy: 0.5636 - lr: 1.0000e-05\n",
            "Epoch 4/20\n",
            "28/28 [==============================] - ETA: 0s - loss: 0.7443 - accuracy: 0.6956\n",
            "Epoch 4: val_loss did not improve from 1.12211\n",
            "28/28 [==============================] - 80s 3s/step - loss: 0.7443 - accuracy: 0.6956 - val_loss: 1.4051 - val_accuracy: 0.5591 - lr: 1.0000e-05\n",
            "Epoch 5/20\n",
            "28/28 [==============================] - ETA: 0s - loss: 0.7427 - accuracy: 0.6899\n",
            "Epoch 5: val_loss did not improve from 1.12211\n",
            "28/28 [==============================] - 88s 3s/step - loss: 0.7427 - accuracy: 0.6899 - val_loss: 1.5462 - val_accuracy: 0.5409 - lr: 1.0000e-05\n",
            "Epoch 6/20\n",
            "28/28 [==============================] - ETA: 0s - loss: 0.7443 - accuracy: 0.6830\n",
            "Epoch 6: val_loss did not improve from 1.12211\n",
            "\n",
            "Epoch 6: ReduceLROnPlateau reducing learning rate to 4.999999873689376e-06.\n",
            "28/28 [==============================] - 81s 3s/step - loss: 0.7443 - accuracy: 0.6830 - val_loss: 1.6399 - val_accuracy: 0.5409 - lr: 1.0000e-05\n",
            "Epoch 7/20\n",
            "28/28 [==============================] - ETA: 0s - loss: 0.7627 - accuracy: 0.7035\n",
            "Epoch 7: val_loss did not improve from 1.12211\n",
            "28/28 [==============================] - 79s 3s/step - loss: 0.7627 - accuracy: 0.7035 - val_loss: 1.7367 - val_accuracy: 0.5273 - lr: 5.0000e-06\n",
            "Epoch 8/20\n",
            "28/28 [==============================] - ETA: 0s - loss: 0.7115 - accuracy: 0.7035\n",
            "Epoch 8: val_loss did not improve from 1.12211\n",
            "28/28 [==============================] - 83s 3s/step - loss: 0.7115 - accuracy: 0.7035 - val_loss: 2.0493 - val_accuracy: 0.5364 - lr: 5.0000e-06\n",
            "Epoch 9/20\n",
            "28/28 [==============================] - ETA: 0s - loss: 0.7017 - accuracy: 0.7172\n",
            "Epoch 9: val_loss did not improve from 1.12211\n",
            "28/28 [==============================] - 85s 3s/step - loss: 0.7017 - accuracy: 0.7172 - val_loss: 2.4136 - val_accuracy: 0.5136 - lr: 5.0000e-06\n",
            "Epoch 10/20\n",
            "28/28 [==============================] - ETA: 0s - loss: 0.6822 - accuracy: 0.7343\n",
            "Epoch 10: val_loss did not improve from 1.12211\n",
            "28/28 [==============================] - 82s 3s/step - loss: 0.6822 - accuracy: 0.7343 - val_loss: 2.7020 - val_accuracy: 0.5136 - lr: 5.0000e-06\n",
            "Epoch 11/20\n",
            "28/28 [==============================] - ETA: 0s - loss: 0.6790 - accuracy: 0.7138Restoring model weights from the end of the best epoch: 1.\n",
            "\n",
            "Epoch 11: val_loss did not improve from 1.12211\n",
            "\n",
            "Epoch 11: ReduceLROnPlateau reducing learning rate to 2.499999936844688e-06.\n",
            "28/28 [==============================] - 79s 3s/step - loss: 0.6790 - accuracy: 0.7138 - val_loss: 3.0961 - val_accuracy: 0.5136 - lr: 5.0000e-06\n",
            "Epoch 11: early stopping\n"
          ]
        },
        {
          "output_type": "display_data",
          "data": {
            "text/plain": [
              "<Figure size 1200x500 with 2 Axes>"
            ],
            "image/png": "[encoded data removed]"
          },
          "metadata": {}
        },
        {
          "output_type": "stream",
          "name": "stdout",
          "text": [
            "✅ Final model saved as /content/drive/MyDrive/cnnprojectfinal/final_model.h5\n"
          ]
        }
      ]
    },
    {
      "cell_type": "markdown",
      "source": [
        "**Step 6: Model Evaluation**"
      ],
      "metadata": {
        "id": "-TBkwQwV4s6Z"
      }
    },
    {
      "cell_type": "code",
      "source": [
        "import numpy as np\n",
        "import matplotlib.pyplot as plt\n",
        "import seaborn as sns\n",
        "from sklearn.metrics import classification_report, confusion_matrix, accuracy_score, roc_auc_score\n",
        "from sklearn.preprocessing import label_binarize\n",
        "\n",
        "def evaluate_model(model, X_val, y_val, class_names=['benign', 'malignant', 'normal'], compute_auc=False):\n",
        "    \"\"\"\n",
        "    Evaluates the model on the validation data and prints key metrics.\n",
        "\n",
        "    Parameters:\n",
        "      - model: A trained Keras model.\n",
        "      - X_val: Validation images (should be preprocessed as during training).\n",
        "      - y_val: True labels for the validation images.\n",
        "      - class_names: A list of class names corresponding to the labels.\n",
        "      - compute_auc: If True, computes and prints the ROC-AUC score for multi-class classification.\n",
        "\n",
        "    Outputs:\n",
        "      - Classification report (precision, recall, f1-score, support).\n",
        "      - Confusion matrix plot.\n",
        "      - Class-wise accuracy and overall accuracy.\n",
        "      - (Optionally) ROC-AUC Score.\n",
        "    \"\"\"\n",
        "    # Generate predictions (probabilities) and convert them to class labels.\n",
        "    y_pred_probs = model.predict(X_val)\n",
        "    y_pred_classes = np.argmax(y_pred_probs, axis=1)\n",
        "\n",
        "    # Print classification report.\n",
        "    print(\"Classification Report:\")\n",
        "    print(classification_report(y_val, y_pred_classes, target_names=class_names))\n",
        "\n",
        "    # Plot the confusion matrix.\n",
        "    cm = confusion_matrix(y_val, y_pred_classes)\n",
        "    plt.figure(figsize=(8, 6))\n",
        "    sns.heatmap(cm, annot=True, fmt='d', cmap='Blues',\n",
        "                xticklabels=class_names, yticklabels=class_names)\n",
        "    plt.title('Confusion Matrix')\n",
        "    plt.xlabel('Predicted')\n",
        "    plt.ylabel('True')\n",
        "    plt.show()\n",
        "\n",
        "    # Compute and print class-wise accuracy.\n",
        "    class_acc = {}\n",
        "    for i, class_name in enumerate(class_names):\n",
        "        mask = (y_val == i)\n",
        "        class_acc[class_name] = np.mean(y_pred_classes[mask] == y_val[mask])\n",
        "    print(\"Class-wise Accuracy:\")\n",
        "    for class_name, acc in class_acc.items():\n",
        "        print(f\"{class_name}: {acc:.2%}\")\n",
        "\n",
        "    # Compute and print overall accuracy.\n",
        "    overall_acc = accuracy_score(y_val, y_pred_classes)\n",
        "    print(f\"Overall Accuracy: {overall_acc:.2%}\")\n",
        "\n",
        "    # Optionally compute ROC-AUC score for multi-class classification.\n",
        "    if compute_auc:\n",
        "        try:\n",
        "            # Binarize the true labels for multi-class ROC-AUC.\n",
        "            y_val_binarized = label_binarize(y_val, classes=range(len(class_names)))\n",
        "            auc = roc_auc_score(y_val_binarized, y_pred_probs, multi_class='ovr')\n",
        "            print(f\"ROC-AUC Score: {auc:.4f}\")\n",
        "        except Exception as e:\n",
        "            print(\"Error computing ROC-AUC Score:\", e)\n"
      ],
      "metadata": {
        "id": "1v25RPLa40hp"
      },
      "execution_count": null,
      "outputs": []
    },
    {
      "cell_type": "code",
      "source": [
        "# Run the evaluation function\n",
        "from utils.evaluate import evaluate_model\n",
        "evaluate_model(model, X_val, y_val)"
      ],
      "metadata": {
        "colab": {
          "base_uri": "https://localhost:8080/",
          "height": 331
        },
        "id": "WW62T6mc5Y0B",
        "outputId": "c5e28947-a6f1-4af9-a35e-33bb69b87aeb"
      },
      "execution_count": null,
      "outputs": [
        {
          "output_type": "error",
          "ename": "ModuleNotFoundError",
          "evalue": "No module named 'utils'",
          "traceback": [
            "\u001b[0;31m---------------------------------------------------------------------------\u001b[0m",
            "\u001b[0;31mModuleNotFoundError\u001b[0m                       Traceback (most recent call last)",
            "\u001b[0;32m<ipython-input-2-4292088e6bbc>\u001b[0m in \u001b[0;36m<cell line: 0>\u001b[0;34m()\u001b[0m\n\u001b[0;32m----> 1\u001b[0;31m \u001b[0;32mfrom\u001b[0m \u001b[0mutils\u001b[0m\u001b[0;34m.\u001b[0m\u001b[0mevaluate\u001b[0m \u001b[0;32mimport\u001b[0m \u001b[0mevaluate_model\u001b[0m\u001b[0;34m\u001b[0m\u001b[0;34m\u001b[0m\u001b[0m\n\u001b[0m\u001b[1;32m      2\u001b[0m \u001b[0mevaluate_model\u001b[0m\u001b[0;34m(\u001b[0m\u001b[0mmodel\u001b[0m\u001b[0;34m,\u001b[0m \u001b[0mX_val\u001b[0m\u001b[0;34m,\u001b[0m \u001b[0my_val\u001b[0m\u001b[0;34m)\u001b[0m\u001b[0;34m\u001b[0m\u001b[0;34m\u001b[0m\u001b[0m\n",
            "\u001b[0;31mModuleNotFoundError\u001b[0m: No module named 'utils'",
            "",
            "\u001b[0;31m---------------------------------------------------------------------------\u001b[0;32m\nNOTE: If your import is failing due to a missing package, you can\nmanually install dependencies using either !pip or !apt.\n\nTo view examples of installing some common dependencies, click the\n\"Open Examples\" button below.\n\u001b[0;31m---------------------------------------------------------------------------\u001b[0m\n"
          ],
          "errorDetails": {
            "actions": [
              {
                "action": "open_url",
                "actionText": "Open Examples",
                "url": "/notebooks/snippets/importing_libraries.ipynb"
              }
            ]
          }
        }
      ]
    },
    {
      "cell_type": "markdown",
      "source": [
        "**Step 8: Implementation of Explainable AI (Grad-CAM)**"
      ],
      "metadata": {
        "id": "TxTHY0OH438x"
      }
    },
    {
      "cell_type": "code",
      "source": [
        "import tensorflow as tf\n",
        "import cv2\n",
        "import numpy as np\n",
        "import matplotlib.pyplot as plt\n",
        "\n",
        "def grad_cam(model, img_array, layer_name='conv2d_2', class_index=None):\n",
        "    \"\"\"\n",
        "    Generates a Grad-CAM heatmap for a given image and model.\n",
        "\n",
        "    Parameters:\n",
        "      - model: A trained Keras model.\n",
        "      - img_array: Preprocessed image array of shape (1, H, W, C).\n",
        "      - layer_name: Name of the convolutional layer to use for Grad-CAM.\n",
        "      - class_index: (Optional) Integer representing the target class. If None,\n",
        "                     the class with the highest predicted probability is used.\n",
        "\n",
        "    Returns:\n",
        "      - superimposed_img: The original image (in BGR) overlaid with the Grad-CAM heatmap.\n",
        "    \"\"\"\n",
        "    # Create a model that maps the input image to the activations of the target layer and the output predictions\n",
        "    grad_model = tf.keras.models.Model(\n",
        "        [model.inputs], [model.get_layer(layer_name).output, model.output]\n",
        "    )\n",
        "\n",
        "    with tf.GradientTape() as tape:\n",
        "        # Forward pass: obtain the convolutional layer output and predictions\n",
        "        conv_outputs, predictions = grad_model(img_array)\n",
        "        if class_index is None:\n",
        "            class_index = tf.argmax(predictions[0])\n",
        "        # Compute the loss for the target class\n",
        "        loss = predictions[:, class_index]\n",
        "\n",
        "    # Compute the gradient of the loss with respect to the convolutional outputs\n",
        "    grads = tape.gradient(loss, conv_outputs)\n",
        "    # Global average pool the gradients across the width and height dimensions\n",
        "    pooled_grads = tf.reduce_mean(grads, axis=(0, 1, 2))\n",
        "\n",
        "    # Get the convolutional outputs for the first image in the batch\n",
        "    conv_outputs = conv_outputs[0]\n",
        "    # Multiply each channel in the feature map array by its corresponding gradient importance\n",
        "    heatmap = conv_outputs @ pooled_grads[..., tf.newaxis]\n",
        "    heatmap = tf.squeeze(heatmap).numpy()\n",
        "\n",
        "    # Apply ReLU to the heatmap to keep only positive contributions\n",
        "    heatmap = np.maximum(heatmap, 0)\n",
        "    # Normalize the heatmap (avoid division by zero)\n",
        "    if np.max(heatmap) != 0:\n",
        "        heatmap /= np.max(heatmap)\n",
        "\n",
        "    # Resize the heatmap to match the input image dimensions (assumes img_array is (1, H, W, C))\n",
        "    heatmap = cv2.resize(heatmap, (img_array.shape[2], img_array.shape[1]))\n",
        "    # Convert heatmap to 8-bit and apply a color map\n",
        "    heatmap = np.uint8(255 * heatmap)\n",
        "    heatmap = cv2.applyColorMap(heatmap, cv2.COLORMAP_JET)\n",
        "\n",
        "    # Prepare the original image for superimposition:\n",
        "    # Assume the original image is grayscale (with one channel), so squeeze it and convert to uint8.\n",
        "    img = np.uint8(255 * img_array[0].squeeze())\n",
        "    # Convert grayscale to BGR\n",
        "    img_bgr = cv2.cvtColor(img, cv2.COLOR_GRAY2BGR)\n",
        "    # Superimpose the heatmap on the original image with a chosen intensity\n",
        "    superimposed_img = cv2.addWeighted(img_bgr, 0.6, heatmap, 0.4, 0)\n",
        "    return superimposed_img\n",
        "\n",
        "def visualize_explanations(model, X_val, y_val, num_samples=3):\n",
        "    \"\"\"\n",
        "    Visualizes Grad-CAM explanations for a random set of samples from the validation data.\n",
        "\n",
        "    Parameters:\n",
        "      - model: A trained Keras model.\n",
        "      - X_val: Array of validation images (preprocessed as during training).\n",
        "      - y_val: Array of true labels corresponding to X_val.\n",
        "      - num_samples: Number of samples to visualize.\n",
        "    \"\"\"\n",
        "    class_names = ['benign', 'malignant', 'normal']\n",
        "    # Randomly select indices for visualization\n",
        "    indices = np.random.choice(len(X_val), num_samples, replace=False)\n",
        "\n",
        "    plt.figure(figsize=(15, 5 * num_samples))\n",
        "    for i, idx in enumerate(indices, 1):\n",
        "        img = X_val[idx]\n",
        "        true_label = class_names[y_val[idx]]\n",
        "\n",
        "        # Get model prediction for the image\n",
        "        pred = model.predict(np.expand_dims(img, axis=0))\n",
        "        pred_class = class_names[np.argmax(pred)]\n",
        "\n",
        "        # Generate Grad-CAM explanation\n",
        "        explanation = grad_cam(model, np.expand_dims(img, axis=0))\n",
        "\n",
        "        # Plot original image with true and predicted labels\n",
        "        plt.subplot(num_samples, 2, 2 * i - 1)\n",
        "        plt.imshow(img.squeeze(), cmap='gray')\n",
        "        plt.title(f\"True: {true_label}\\nPred: {pred_class}\")\n",
        "        plt.axis('off')\n",
        "\n",
        "        # Plot the Grad-CAM explanation\n",
        "        plt.subplot(num_samples, 2, 2 * i)\n",
        "        plt.imshow(explanation)\n",
        "        plt.title(\"Grad-CAM Explanation\")\n",
        "        plt.axis('off')\n",
        "    plt.tight_layout()\n",
        "    plt.show()\n"
      ],
      "metadata": {
        "id": "e78ski0J4-5B"
      },
      "execution_count": null,
      "outputs": []
    },
    {
      "cell_type": "code",
      "source": [
        "# Visualize model explanations\n",
        "\n",
        "from utils.xai import visualize_explanations\n",
        "visualize_explanations(model, X_val, y_val, num_samples=3)"
      ],
      "metadata": {
        "id": "_uZ4z0Gj5oUy"
      },
      "execution_count": null,
      "outputs": []
    },
    {
      "cell_type": "markdown",
      "source": [
        "**Step 9: Testing Model Accuracy on Test images**"
      ],
      "metadata": {
        "id": "ddo_AQKV5OhK"
      }
    },
    {
      "cell_type": "code",
      "source": [
        "import cv2\n",
        "import numpy as np\n",
        "from pathlib import Path\n",
        "import matplotlib.pyplot as plt\n",
        "\n",
        "def load_test_images(test_dir, target_size=(224, 224)):\n",
        "    \"\"\"\n",
        "    Loads and preprocesses test images from the specified directory.\n",
        "\n",
        "    Parameters:\n",
        "      - test_dir: Path to the test images directory.\n",
        "      - target_size: Desired size for the images (width, height).\n",
        "\n",
        "    Returns:\n",
        "      - images: NumPy array of test images (with shape (N, H, W, 1) and normalized to [0,1]).\n",
        "      - image_paths: List of image file paths.\n",
        "    \"\"\"\n",
        "    test_dir = Path(test_dir)\n",
        "    images = []\n",
        "    image_paths = list(test_dir.glob('*'))\n",
        "    for img_path in image_paths:\n",
        "        if img_path.suffix.lower() in ('.png', '.jpg', '.jpeg'):\n",
        "            img = cv2.imread(str(img_path), cv2.IMREAD_GRAYSCALE)\n",
        "            if img is not None:\n",
        "                img = cv2.resize(img, target_size)\n",
        "                # Add channel dimension and normalize to [0,1]\n",
        "                images.append(img[..., np.newaxis] / 255.0)\n",
        "    return np.array(images), image_paths\n",
        "\n",
        "# Example usage:\n",
        "# Assuming your model is loaded in a variable called `model`\n",
        "# and you want to test on images from your test folder.\n",
        "test_images, test_paths = load_test_images(\"/content/drive/MyDrive/cnnprojectfinal/data/raw/test\", target_size=(224, 224))\n",
        "\n",
        "# Get predictions for the test images.\n",
        "predictions = model.predict(test_images)\n",
        "predicted_classes = np.argmax(predictions, axis=1)\n",
        "\n",
        "# Print results for each test image.\n",
        "class_names = ['benign', 'malignant', 'normal']\n",
        "for path, pred_class in zip(test_paths, predicted_classes):\n",
        "    print(f\"Image: {path.name}, Predicted Class: {class_names[pred_class]}\")\n",
        "\n",
        "# Optionally, visualize Grad-CAM explanations for a few test images.\n",
        "# Here we reuse the visualize_explanations function from xai.py.\n",
        "from utils.xai import visualize_explanations\n",
        "# Note: Ensure test_images and corresponding labels are available.\n",
        "# If you have true labels for the test set, supply them; otherwise, you can set dummy labels.\n",
        "dummy_labels = np.zeros(len(test_images), dtype=int)  # Replace with true labels if available\n",
        "visualize_explanations(model, test_images, dummy_labels, num_samples=3)\n"
      ],
      "metadata": {
        "id": "dM4D9DcP6C3S"
      },
      "execution_count": null,
      "outputs": []
    }
  ]
}